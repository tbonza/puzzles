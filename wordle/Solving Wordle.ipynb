{
 "cells": [
  {
   "cell_type": "markdown",
   "id": "b4ad0b31",
   "metadata": {},
   "source": [
    "The game [Wordle](https://www.powerlanguage.co.uk/wordle/) continues to be a fun game with friends. The [NY Times wrote that Wordle is a Love Story](https://www.nytimes.com/2022/01/03/technology/wordle-word-game-creator.html). We're not solving Wordle because we don't believe in love stories. We're solving Wordle because math is also a love story, and the underlying patterns found in our every day life are beautiful. We're solving Wordle because we think AI is something that should be explainable and interpretable. We think that all love stories start with trust.\n",
    "\n",
    "*Wordle rules:*\n",
    "\n",
    "1. Guess the WORDLE in 6 tries.\n",
    "\n",
    "1. Each guess must be a valid 5 letter word. Hit the enter button to submit.\n",
    "\n",
    "1. After each guess, the color of the tiles will change to show how close your guess was to the word.\n",
    "\n",
    "The strategy is to make a word guess by reducing the number of alternative possibilities. We reduce alternative possibilities by starting with words that include the most vowels, then choosing words that include matching values with the most popular consonants. We repeat the cycle of choose vowels, choose popular consonants until hopefully finding a solution.\n",
    "\n",
    "\n",
    "### Credits\n",
    "\n",
    "Note that the strategy is from Tiffany Chen. She introduced me to Wordle and coached me on how she's been playing the game. I did my best to listen and translate her intuition into an algorithm to solve Wordle games.\n",
    "\n",
    "\n",
    "### References\n",
    "\n",
    "A great example of constraint propagation is [Peter Norvig solving all the Sudoku puzzles](https://norvig.com/sudoku.html). The [OR-Tools Constraint Optimization guide from Google](https://developers.google.com/optimization/cp) is a learning opportunity for me. We can make a more general connection to the [boolean satisfiability problem](https://en.wikipedia.org/wiki/Boolean_satisfiability_problem). As a higher level goal, I would like to understand if these approaches can help improve AI interpretability/explainability."
   ]
  },
  {
   "cell_type": "markdown",
   "id": "23d42dcd",
   "metadata": {},
   "source": [
    "### Dependencies and Constants\n",
    "\n",
    "Keep track of these for maintainability of code."
   ]
  },
  {
   "cell_type": "code",
   "execution_count": 1,
   "id": "5100dc67",
   "metadata": {},
   "outputs": [],
   "source": [
    "from collections import defaultdict\n",
    "import json\n",
    "import random\n",
    "import math"
   ]
  },
  {
   "cell_type": "code",
   "execution_count": 2,
   "id": "f9472f88",
   "metadata": {},
   "outputs": [],
   "source": [
    "CONSONANTS = set(['b','c','d','f','g','h','j','k','l','m','n','p','q','r','s','t','v','w','x','z'])\n",
    "VOWELS = set(['a','e','i','o','u','y'])"
   ]
  },
  {
   "cell_type": "markdown",
   "id": "f8ecaeb0",
   "metadata": {},
   "source": [
    "## Wordle Words\n",
    "\n",
    "Wordle words are from the word list found by [Robert Reichel, (Reverse Engineering Wordle)](https://reichel.dev/blog/reverse-engineering-wordle.html). I retrieved the list by using Chrome Dev Tools, parsing the Javascript for the `var La` array. I also found a `Ta` array containing a second list of words. Reichel appears to focus on the `La` array so I do the same here. Screenhots of parsing the Javascript for the word lists:\n",
    "\n",
    "![la_wordle_words](var_la.png)\n",
    "\n",
    "![ta_wordle_words](var_ta.png)"
   ]
  },
  {
   "cell_type": "code",
   "execution_count": 3,
   "id": "d94b621b",
   "metadata": {},
   "outputs": [],
   "source": [
    "with open(\"la.json\", \"r\") as f:\n",
    "    data = json.load(f)"
   ]
  },
  {
   "cell_type": "markdown",
   "id": "3de64512",
   "metadata": {},
   "source": [
    "## Wordle Game\n",
    "\n",
    "Replicating the wordle game so we can run simulations."
   ]
  },
  {
   "cell_type": "code",
   "execution_count": 4,
   "id": "833570ae",
   "metadata": {},
   "outputs": [],
   "source": [
    "def wordle_word(data, seed=42):\n",
    "    \"\"\" Word of the day. \"\"\"\n",
    "    random.seed(seed)\n",
    "    return data[random.randint(0,len(data)-1)]\n",
    "    "
   ]
  },
  {
   "cell_type": "code",
   "execution_count": 5,
   "id": "91ab03bf",
   "metadata": {},
   "outputs": [],
   "source": [
    "def play_wordle(guess:str, word_of_the_day:str) -> list:\n",
    "    board = []\n",
    "    correct_letters = set(word_of_the_day)\n",
    "    has_letters = set(guess)\n",
    "    has_letters = has_letters & correct_letters\n",
    "    for correct_letter, guessed_letter in zip(word_of_the_day, guess):\n",
    "        if correct_letter == guessed_letter:\n",
    "            board.append(guessed_letter)\n",
    "        else:\n",
    "            board.append(\"\")\n",
    "    return board, has_letters\n",
    "        "
   ]
  },
  {
   "cell_type": "code",
   "execution_count": 6,
   "id": "a043ec53",
   "metadata": {},
   "outputs": [
    {
     "name": "stdout",
     "output_type": "stream",
     "text": [
      "example guess 'adieu''\n",
      "example wordle 'onset'\n"
     ]
    }
   ],
   "source": [
    "example_wordle_word = wordle_word(data)\n",
    "example_guess = \"adieu\"\n",
    "print(\"example guess '{}''\\nexample wordle '{}'\".format(example_guess, example_wordle_word))"
   ]
  },
  {
   "cell_type": "code",
   "execution_count": 7,
   "id": "b8b0d8d4",
   "metadata": {},
   "outputs": [
    {
     "data": {
      "text/plain": [
       "(['', '', '', 'e', ''], {'e'})"
      ]
     },
     "execution_count": 7,
     "metadata": {},
     "output_type": "execute_result"
    }
   ],
   "source": [
    "play_wordle(example_guess, example_wordle_word)"
   ]
  },
  {
   "cell_type": "markdown",
   "id": "df025a3e",
   "metadata": {},
   "source": [
    "## Global Distribution of Vowels & Consonants\n",
    "\n",
    "We want to maximize the number of correct letters guessed even if \n",
    "the order is not apparent. We do this by generating frequencies of\n",
    "vowels and consonants from the Wordle words. Our general strategy\n",
    "is to narrow down candidates by leveraging the global distribution\n",
    "of letters within Wordle words."
   ]
  },
  {
   "cell_type": "code",
   "execution_count": 8,
   "id": "bc7c7e4d",
   "metadata": {},
   "outputs": [],
   "source": [
    "def most_shared(data:list, has_vowels=True):\n",
    "    possible = []\n",
    "    letters = defaultdict(int)\n",
    "    shared = CONSONANTS\n",
    "    if has_vowels:\n",
    "        shared = VOWELS\n",
    "    for word in data:\n",
    "        wordset = set(word)\n",
    "        overlap = len(wordset & shared)\n",
    "        if overlap > 0:\n",
    "            possible.append((word, overlap))\n",
    "        for letter in (wordset & shared):\n",
    "            letters[letter] += 1\n",
    "            \n",
    "    letters = {k:v for k,v in sorted(letters.items(), key=lambda x: x[1], reverse=True)}\n",
    "    possible = sorted(possible, key=lambda x: x[1], reverse=True)\n",
    "    return possible, letters"
   ]
  },
  {
   "cell_type": "code",
   "execution_count": 9,
   "id": "4d020df5",
   "metadata": {},
   "outputs": [
    {
     "data": {
      "text/plain": [
       "[('bayou', 4), ('audio', 4), ('quiet', 3), ('adobe', 3), ('repay', 3)]"
      ]
     },
     "execution_count": 9,
     "metadata": {},
     "output_type": "execute_result"
    }
   ],
   "source": [
    "possible_vowels, usage_vowels = most_shared(data, has_vowels=True)\n",
    "possible_vowels[:5]"
   ]
  },
  {
   "cell_type": "code",
   "execution_count": 10,
   "id": "55998cd0",
   "metadata": {},
   "outputs": [
    {
     "data": {
      "text/plain": [
       "[('blush', 4), ('dwarf', 4), ('stink', 4), ('bench', 4), ('fresh', 4)]"
      ]
     },
     "execution_count": 10,
     "metadata": {},
     "output_type": "execute_result"
    }
   ],
   "source": [
    "possible_conson, usage_conson = most_shared(data, has_vowels=False)\n",
    "possible_conson[:5]"
   ]
  },
  {
   "cell_type": "code",
   "execution_count": 11,
   "id": "dd07b577",
   "metadata": {},
   "outputs": [
    {
     "data": {
      "text/plain": [
       "{'e': 1056, 'a': 909, 'o': 673, 'i': 647, 'u': 457, 'y': 417}"
      ]
     },
     "execution_count": 11,
     "metadata": {},
     "output_type": "execute_result"
    }
   ],
   "source": [
    "usage_vowels"
   ]
  },
  {
   "cell_type": "markdown",
   "id": "1360cff4",
   "metadata": {},
   "source": [
    "## Establish a Set of Candidates\n",
    "\n",
    "We use all of the Wordle words as our starting set of candidates."
   ]
  },
  {
   "cell_type": "code",
   "execution_count": 12,
   "id": "a9293e49",
   "metadata": {},
   "outputs": [
    {
     "data": {
      "text/plain": [
       "2315"
      ]
     },
     "execution_count": 12,
     "metadata": {},
     "output_type": "execute_result"
    }
   ],
   "source": [
    "# Establish set of candidates\n",
    "cands = {k: set(k) for k in data}\n",
    "\n",
    "len(cands)"
   ]
  },
  {
   "cell_type": "markdown",
   "id": "a5f4a792",
   "metadata": {},
   "source": [
    "## Assignment Strategy\n",
    "\n",
    "We're assigning guesses based on most frequent vowels, followed by most frequent consonants. In the event that we guess the correct position of a letter, we will also assign based on that letter position within the game board."
   ]
  },
  {
   "cell_type": "code",
   "execution_count": 13,
   "id": "14dc8a5d",
   "metadata": {},
   "outputs": [],
   "source": [
    "def break_ties(cands, usage):\n",
    "    # break ties by scoring with most frequent vowels\n",
    "    uv = {x[0]: idx for idx, x in enumerate(reversed(usage_vowels.items())) }\n",
    "    for bucket, words in cands.items():\n",
    "        scored = []\n",
    "        for word in words:\n",
    "            scored.append((word, sum([uv.get(i,0) for i in word])))\n",
    "        scored = [i[0] for i in sorted(scored, key=lambda x: x[1], reverse=True)]\n",
    "        cands[bucket] = scored\n",
    "    return cands\n",
    "    \n",
    "def feature_bucket(cands:dict, usage:dict, has_vowels=True) -> list:\n",
    "    buckets = defaultdict(list)\n",
    "    cset = CONSONANTS\n",
    "    if has_vowels:\n",
    "        cset = VOWELS\n",
    "    for word, wordset in cands.items():\n",
    "        buckets[len(wordset & cset)].append(word)\n",
    "    buckets = break_ties(buckets, usage)\n",
    "    return buckets "
   ]
  },
  {
   "cell_type": "code",
   "execution_count": 14,
   "id": "92f7ff40",
   "metadata": {},
   "outputs": [
    {
     "data": {
      "text/plain": [
       "['audio', 'bayou']"
      ]
     },
     "execution_count": 14,
     "metadata": {},
     "output_type": "execute_result"
    }
   ],
   "source": [
    "feature_bucket(cands, usage_vowels, has_vowels=True)[4][:5]"
   ]
  },
  {
   "cell_type": "code",
   "execution_count": 15,
   "id": "d9d57433",
   "metadata": {},
   "outputs": [
    {
     "data": {
      "text/plain": [
       "(['', '', '', '', ''], {'e', 'o'})"
      ]
     },
     "execution_count": 15,
     "metadata": {},
     "output_type": "execute_result"
    }
   ],
   "source": [
    " play_wordle(\"aeiou\", example_wordle_word)"
   ]
  },
  {
   "cell_type": "code",
   "execution_count": 16,
   "id": "a0b7bb6d",
   "metadata": {},
   "outputs": [
    {
     "data": {
      "text/plain": [
       "(['', '', '', '', ''], {'o'})"
      ]
     },
     "execution_count": 16,
     "metadata": {},
     "output_type": "execute_result"
    }
   ],
   "source": [
    "board, found = play_wordle(\"audio\", example_wordle_word)\n",
    "board, found"
   ]
  },
  {
   "cell_type": "code",
   "execution_count": 17,
   "id": "e5a6050f",
   "metadata": {},
   "outputs": [
    {
     "data": {
      "text/plain": [
       "{'a', 'd', 'i', 'u'}"
      ]
     },
     "execution_count": 17,
     "metadata": {},
     "output_type": "execute_result"
    }
   ],
   "source": [
    "# We can also get information using the contra-positive\n",
    "set(\"audio\") - found"
   ]
  },
  {
   "cell_type": "markdown",
   "id": "b492ecba",
   "metadata": {},
   "source": [
    "Here we can see that just inputting vowels instead of a real word gets us\n",
    "further along then choosing the word with the most vowels. We broke the tie\n",
    "between words using most vowels by sorting within buckets by most frequent \n",
    "vowels."
   ]
  },
  {
   "cell_type": "markdown",
   "id": "599c1651",
   "metadata": {},
   "source": [
    "## Constraint Propagation\n",
    "\n",
    "1. If a word does not contain found letters, eliminate it from candidates.\n",
    "1. Eliminate letters based on shared position.\n",
    "1. If ties are found, break them using most frequent letters."
   ]
  },
  {
   "cell_type": "code",
   "execution_count": 18,
   "id": "d806fe3a",
   "metadata": {},
   "outputs": [],
   "source": [
    "def eliminate(cands:dict, game:list, found:set, contra:set) -> dict:\n",
    "    candidate_words = list(cands.keys())\n",
    "    \n",
    "    for candidate_word in candidate_words:\n",
    "        \n",
    "        wordset = cands[candidate_word]\n",
    "        \n",
    "        # (1a) Eliminate based on shared letters\n",
    "        if len(wordset & found) != len(found):\n",
    "            cands.pop(candidate_word)\n",
    "            continue\n",
    "            \n",
    "        # (1b) Eliminate contra-positive shared letters\n",
    "        if len(wordset & contra) > 0:\n",
    "            cands.pop(candidate_word)\n",
    "            continue\n",
    "            \n",
    "        # (2) Eliminate based on shared position\n",
    "        for i in range(len(game)):\n",
    "            if len(game[i]) > 0 and candidate_word[i] != game[i]:\n",
    "                cands.pop(candidate_word)\n",
    "                break\n",
    "                \n",
    "    return cands"
   ]
  },
  {
   "cell_type": "code",
   "execution_count": 19,
   "id": "cce6f599",
   "metadata": {},
   "outputs": [
    {
     "data": {
      "text/plain": [
       "{'siste': {'e', 'i', 's', 't'}}"
      ]
     },
     "execution_count": 19,
     "metadata": {},
     "output_type": "execute_result"
    }
   ],
   "source": [
    "# test elimination step\n",
    "\n",
    "test_cands = {\n",
    " 'cigar': {'a', 'c', 'g', 'i', 'r'},\n",
    " 'rebut': {'b', 'e', 'r', 't', 'u'},\n",
    " 'siste': {'i', 's', 't','e'},\n",
    " 'humph': {'h', 'm', 'p', 'u'},\n",
    "}\n",
    "\n",
    "test_guess = \"cigar\"\n",
    "test_wordle = \"siste\"\n",
    "test_game = ['','i','','','']\n",
    "test_found = set(['i'])\n",
    "test_contra = set(test_guess) - test_found\n",
    "\n",
    "eliminate(test_cands, test_game, test_found, set(test_guess) - test_found)"
   ]
  },
  {
   "cell_type": "markdown",
   "id": "7b287ed0",
   "metadata": {},
   "source": [
    "## Playing Wordle\n",
    "\n",
    "We've established relevant distributions. Let's play Wordle."
   ]
  },
  {
   "cell_type": "code",
   "execution_count": 20,
   "id": "bdcfd8ba",
   "metadata": {},
   "outputs": [],
   "source": [
    "def choose_guess(buckets:dict) -> str:\n",
    "    choose = max(list(buckets.keys()))\n",
    "    return buckets[choose][0]\n",
    "\n",
    "def solved_game(board:list):\n",
    "    return all([len(i) > 0 for i in board])\n",
    "\n",
    "def report_attempt(board:list, found:set, guess_attempt:int, cands:dict):\n",
    "    print(\"Guess attempt: {}\".format(guess_attempt))\n",
    "    print(\"\\tboard: {}\".format(board))\n",
    "    print(\"\\tfound: {}\".format(found))\n",
    "    print(\"\\tRemaining candidates: {}\".format(len(cands)))\n",
    "\n",
    "def report_solution(board:list, guess_attempt:int, report=True):\n",
    "    h = {\n",
    "        \"board\" : \"\".join(board),\n",
    "        \"attempts\" : guess_attempt,\n",
    "        \"solved\": True,\n",
    "    }\n",
    "    if report:\n",
    "        print(\"Solved game.\")\n",
    "        print(h)\n",
    "    return h\n",
    "\n",
    "def compute_wordle(cands:dict, example_wordle_word:str, usage_vowels:dict, usage_cons:dict, \n",
    "                   max_tries=6, report=True):\n",
    "    \n",
    "    if report:\n",
    "        print(\"Starting candidates %d\" % len(cands))\n",
    "    \n",
    "    wordle_guess_attempt = 1\n",
    "    while wordle_guess_attempt <= max_tries:\n",
    "        \n",
    "        # (1) Find vowels\n",
    "        vowel_bucket = feature_bucket(cands, usage_vowels, has_vowels=True)\n",
    "        guess_word = choose_guess(vowel_bucket)\n",
    "        board, found = play_wordle(guess_word, example_wordle_word)\n",
    "        contra = set(guess_word) - found\n",
    "        if solved_game(board):\n",
    "            return report_solution(board, wordle_guess_attempt, report)\n",
    "        \n",
    "        cands = eliminate(cands, board, found, contra)\n",
    "        if report:\n",
    "            report_attempt(board, found, wordle_guess_attempt, cands)\n",
    "            print(\"\\tguess: %s\" % guess_word)\n",
    "        wordle_guess_attempt += 1\n",
    "        \n",
    "        # (2) Find consonants\n",
    "        conson_bucket = feature_bucket(cands, usage_vowels, has_vowels=False)\n",
    "        guess_word = choose_guess(conson_bucket)\n",
    "        board, found = play_wordle(guess_word, example_wordle_word)\n",
    "        contra = set(guess_word) - found\n",
    "        if solved_game(board):\n",
    "            return report_solution(board, wordle_guess_attempt, report)\n",
    "        \n",
    "        cands = eliminate(cands, board, found, contra)\n",
    "        if report:\n",
    "            report_attempt(board, found, wordle_guess_attempt, cands)\n",
    "            print(\"\\tguess: %s\" % guess_word)\n",
    "        wordle_guess_attempt += 1\n",
    "        \n",
    "    h = {\n",
    "        \"board\" : \"\".join(board),\n",
    "        \"attempts\" : wordle_guess_attempt,\n",
    "        \"solved\": False,\n",
    "    }\n",
    "        \n",
    "    if report:\n",
    "        print(\"Unable to solve game\")\n",
    "        print(h)\n",
    "        \n",
    "    return h"
   ]
  },
  {
   "cell_type": "code",
   "execution_count": 21,
   "id": "a14b3503",
   "metadata": {},
   "outputs": [
    {
     "name": "stdout",
     "output_type": "stream",
     "text": [
      "Starting candidates 2315\n",
      "Guess attempt: 1\n",
      "\tboard: ['', '', '', '', '']\n",
      "\tfound: {'o'}\n",
      "\tRemaining candidates: 295\n",
      "\tguess: audio\n",
      "Guess attempt: 2\n",
      "\tboard: ['', '', '', '', '']\n",
      "\tfound: {'o', 't'}\n",
      "\tRemaining candidates: 25\n",
      "\tguess: forth\n",
      "Guess attempt: 3\n",
      "\tboard: ['', '', '', 'e', '']\n",
      "\tfound: {'e', 'o', 't'}\n",
      "\tRemaining candidates: 5\n",
      "\tguess: totem\n",
      "Solved game.\n",
      "{'board': 'onset', 'attempts': 4, 'solved': True}\n"
     ]
    },
    {
     "data": {
      "text/plain": [
       "{'board': 'onset', 'attempts': 4, 'solved': True}"
      ]
     },
     "execution_count": 21,
     "metadata": {},
     "output_type": "execute_result"
    }
   ],
   "source": [
    "compute_wordle(cands, example_wordle_word, usage_vowels, usage_conson)"
   ]
  },
  {
   "cell_type": "markdown",
   "id": "5065f6f9",
   "metadata": {},
   "source": [
    "## Running Simulations\n",
    "\n",
    "Simulate Wordle games."
   ]
  },
  {
   "cell_type": "code",
   "execution_count": 22,
   "id": "22c2fecc",
   "metadata": {},
   "outputs": [
    {
     "data": {
      "text/plain": [
       "2315"
      ]
     },
     "execution_count": 22,
     "metadata": {},
     "output_type": "execute_result"
    }
   ],
   "source": [
    "len(data)"
   ]
  },
  {
   "cell_type": "code",
   "execution_count": 23,
   "id": "f5167057",
   "metadata": {},
   "outputs": [],
   "source": [
    "def wordle_simulations(data:list, n:int, seed:int, usage_vowels:dict,\n",
    "                      usage_cons:dict, max_tries:int, report:bool):\n",
    "    random.seed(seed)\n",
    "    wordle_words = random.sample(data, n)\n",
    "    \n",
    "    status = []\n",
    "    for wordle_word in wordle_words:\n",
    "        \n",
    "        try:\n",
    "            \n",
    "            # Establish set of candidates\n",
    "            cands = {k: set(k) for k in data}\n",
    "    \n",
    "            result = compute_wordle(cands, wordle_word, usage_vowels, \n",
    "                                usage_cons, max_tries, report)\n",
    "        \n",
    "            status.append((wordle_word, result))\n",
    "            \n",
    "        except Exception as exc:\n",
    "            status.append((wordle_word, str(exc)))\n",
    "        \n",
    "    return status\n",
    "    "
   ]
  },
  {
   "cell_type": "code",
   "execution_count": 24,
   "id": "130226ac",
   "metadata": {},
   "outputs": [],
   "source": [
    "n_simulations = 1000\n",
    "simulation_results = wordle_simulations(data, n_simulations, 42, usage_vowels, usage_conson, 6, report=False)"
   ]
  },
  {
   "cell_type": "code",
   "execution_count": 25,
   "id": "38f44069",
   "metadata": {
    "scrolled": true
   },
   "outputs": [
    {
     "data": {
      "text/plain": [
       "0.926"
      ]
     },
     "execution_count": 25,
     "metadata": {},
     "output_type": "execute_result"
    }
   ],
   "source": [
    "count = 0\n",
    "for w,g in simulation_results:\n",
    "    if type(g) is dict and g['solved']:\n",
    "        count += 1\n",
    "        \n",
    "count / n_simulations"
   ]
  },
  {
   "cell_type": "code",
   "execution_count": 26,
   "id": "0ef63fa9",
   "metadata": {},
   "outputs": [
    {
     "data": {
      "text/plain": [
       "defaultdict(int, {4: 322, 3: 194, 6: 117, 5: 252, 2: 40, 1: 1})"
      ]
     },
     "execution_count": 26,
     "metadata": {},
     "output_type": "execute_result"
    }
   ],
   "source": [
    "chances = defaultdict(int)\n",
    "for w, res in simulation_results:\n",
    "    if type(res) is dict and res[\"solved\"]:\n",
    "        chances[res[\"attempts\"]] += 1\n",
    "chances"
   ]
  },
  {
   "cell_type": "markdown",
   "id": "fe9084fd",
   "metadata": {},
   "source": [
    "## Benchmarking \n",
    "\n",
    "Doing a manual check against recent Wordles."
   ]
  },
  {
   "cell_type": "code",
   "execution_count": 27,
   "id": "42e26ba1",
   "metadata": {},
   "outputs": [
    {
     "name": "stdout",
     "output_type": "stream",
     "text": [
      "Starting candidates 2315\n",
      "Guess attempt: 1\n",
      "\tboard: ['', '', '', '', '']\n",
      "\tfound: set()\n",
      "\tRemaining candidates: 190\n",
      "\tguess: audio\n",
      "Guess attempt: 2\n",
      "\tboard: ['', 'e', '', '', '']\n",
      "\tfound: {'e'}\n",
      "\tRemaining candidates: 39\n",
      "\tguess: bench\n",
      "Guess attempt: 3\n",
      "\tboard: ['', 'e', '', '', 'y']\n",
      "\tfound: {'e', 'y', 'r'}\n",
      "\tRemaining candidates: 5\n",
      "\tguess: leery\n",
      "Solved game.\n",
      "{'board': 'perky', 'attempts': 4, 'solved': True}\n"
     ]
    },
    {
     "data": {
      "text/plain": [
       "{'board': 'perky', 'attempts': 4, 'solved': True}"
      ]
     },
     "execution_count": 27,
     "metadata": {},
     "output_type": "execute_result"
    }
   ],
   "source": [
    "cands = {k: set(k) for k in data}\n",
    "compute_wordle(cands, \"perky\", usage_vowels, usage_conson)"
   ]
  },
  {
   "cell_type": "code",
   "execution_count": 28,
   "id": "a3f6cba2",
   "metadata": {},
   "outputs": [
    {
     "name": "stdout",
     "output_type": "stream",
     "text": [
      "Starting candidates 2315\n",
      "Guess attempt: 1\n",
      "\tboard: ['', '', '', '', '']\n",
      "\tfound: {'u', 'o'}\n",
      "\tRemaining candidates: 70\n",
      "\tguess: audio\n",
      "Guess attempt: 2\n",
      "\tboard: ['m', 'o', 'u', '', 't']\n",
      "\tfound: {'m', 'u', 'o', 't'}\n",
      "\tRemaining candidates: 1\n",
      "\tguess: moult\n",
      "Solved game.\n",
      "{'board': 'mount', 'attempts': 3, 'solved': True}\n"
     ]
    },
    {
     "data": {
      "text/plain": [
       "{'board': 'mount', 'attempts': 3, 'solved': True}"
      ]
     },
     "execution_count": 28,
     "metadata": {},
     "output_type": "execute_result"
    }
   ],
   "source": [
    "cands = {k: set(k) for k in data}\n",
    "compute_wordle(cands, \"mount\", usage_vowels, usage_conson)"
   ]
  },
  {
   "cell_type": "code",
   "execution_count": 29,
   "id": "afe58f08",
   "metadata": {},
   "outputs": [
    {
     "name": "stdout",
     "output_type": "stream",
     "text": [
      "Starting candidates 2315\n",
      "Guess attempt: 1\n",
      "\tboard: ['', 'u', '', '', '']\n",
      "\tfound: {'a', 'u'}\n",
      "\tRemaining candidates: 20\n",
      "\tguess: audio\n",
      "Solved game.\n",
      "{'board': 'sugar', 'attempts': 2, 'solved': True}\n"
     ]
    },
    {
     "data": {
      "text/plain": [
       "{'board': 'sugar', 'attempts': 2, 'solved': True}"
      ]
     },
     "execution_count": 29,
     "metadata": {},
     "output_type": "execute_result"
    }
   ],
   "source": [
    "cands = {k: set(k) for k in data}\n",
    "compute_wordle(cands, \"sugar\", usage_vowels, usage_conson)"
   ]
  },
  {
   "cell_type": "code",
   "execution_count": 30,
   "id": "15cd2dca",
   "metadata": {},
   "outputs": [
    {
     "name": "stdout",
     "output_type": "stream",
     "text": [
      "Starting candidates 2315\n",
      "Guess attempt: 1\n",
      "\tboard: ['', '', '', '', '']\n",
      "\tfound: {'i'}\n",
      "\tRemaining candidates: 296\n",
      "\tguess: audio\n",
      "Guess attempt: 2\n",
      "\tboard: ['', '', '', '', '']\n",
      "\tfound: {'i', 't'}\n",
      "\tRemaining candidates: 51\n",
      "\tguess: stink\n",
      "Guess attempt: 3\n",
      "\tboard: ['', 'i', '', '', '']\n",
      "\tfound: {'i', 'e', 't'}\n",
      "\tRemaining candidates: 8\n",
      "\tguess: piety\n",
      "Solved game.\n",
      "{'board': 'tiger', 'attempts': 4, 'solved': True}\n"
     ]
    },
    {
     "data": {
      "text/plain": [
       "{'board': 'tiger', 'attempts': 4, 'solved': True}"
      ]
     },
     "execution_count": 30,
     "metadata": {},
     "output_type": "execute_result"
    }
   ],
   "source": [
    "cands = {k: set(k) for k in data}\n",
    "compute_wordle(cands, \"tiger\", usage_vowels, usage_conson)"
   ]
  },
  {
   "cell_type": "code",
   "execution_count": 31,
   "id": "8efc8d49",
   "metadata": {},
   "outputs": [
    {
     "name": "stdout",
     "output_type": "stream",
     "text": [
      "Starting candidates 2315\n",
      "Guess attempt: 1\n",
      "\tboard: ['', '', '', '', '']\n",
      "\tfound: {'u', 'o', 'd'}\n",
      "\tRemaining candidates: 17\n",
      "\tguess: audio\n",
      "Guess attempt: 2\n",
      "\tboard: ['', 'o', 'u', '', 'd']\n",
      "\tfound: {'u', 'o', 'd'}\n",
      "\tRemaining candidates: 3\n",
      "\tguess: pound\n",
      "Solved game.\n",
      "{'board': 'could', 'attempts': 3, 'solved': True}\n"
     ]
    },
    {
     "data": {
      "text/plain": [
       "{'board': 'could', 'attempts': 3, 'solved': True}"
      ]
     },
     "execution_count": 31,
     "metadata": {},
     "output_type": "execute_result"
    }
   ],
   "source": [
    "cands = {k: set(k) for k in data}\n",
    "compute_wordle(cands, \"could\", usage_vowels, usage_conson)"
   ]
  },
  {
   "cell_type": "code",
   "execution_count": 32,
   "id": "568da52c",
   "metadata": {},
   "outputs": [
    {
     "name": "stdout",
     "output_type": "stream",
     "text": [
      "Starting candidates 2315\n",
      "Guess attempt: 1\n",
      "\tboard: ['', '', '', '', '']\n",
      "\tfound: {'u'}\n",
      "\tRemaining candidates: 200\n",
      "\tguess: audio\n",
      "Guess attempt: 2\n",
      "\tboard: ['', '', 'u', '', '']\n",
      "\tfound: {'u'}\n",
      "\tRemaining candidates: 11\n",
      "\tguess: blush\n",
      "Guess attempt: 3\n",
      "\tboard: ['', 'r', 'u', '', '']\n",
      "\tfound: {'u', 'r'}\n",
      "\tRemaining candidates: 2\n",
      "\tguess: erupt\n",
      "Solved game.\n",
      "{'board': 'wrung', 'attempts': 4, 'solved': True}\n"
     ]
    },
    {
     "data": {
      "text/plain": [
       "{'board': 'wrung', 'attempts': 4, 'solved': True}"
      ]
     },
     "execution_count": 32,
     "metadata": {},
     "output_type": "execute_result"
    }
   ],
   "source": [
    "cands = {k: set(k) for k in data}\n",
    "compute_wordle(cands, \"wrung\", usage_vowels, usage_conson)"
   ]
  },
  {
   "cell_type": "code",
   "execution_count": 33,
   "id": "35f08117",
   "metadata": {},
   "outputs": [
    {
     "name": "stdout",
     "output_type": "stream",
     "text": [
      "Starting candidates 2315\n",
      "Guess attempt: 1\n",
      "\tboard: ['', '', '', '', '']\n",
      "\tfound: {'i'}\n",
      "\tRemaining candidates: 296\n",
      "\tguess: audio\n",
      "Guess attempt: 2\n",
      "\tboard: ['', '', '', '', '']\n",
      "\tfound: {'i', 't'}\n",
      "\tRemaining candidates: 51\n",
      "\tguess: stink\n",
      "Guess attempt: 3\n",
      "\tboard: ['', 'i', '', '', '']\n",
      "\tfound: {'i', 't'}\n",
      "\tRemaining candidates: 14\n",
      "\tguess: piety\n",
      "Solved game.\n",
      "{'board': 'light', 'attempts': 4, 'solved': True}\n"
     ]
    },
    {
     "data": {
      "text/plain": [
       "{'board': 'light', 'attempts': 4, 'solved': True}"
      ]
     },
     "execution_count": 33,
     "metadata": {},
     "output_type": "execute_result"
    }
   ],
   "source": [
    "cands = {k: set(k) for k in data}\n",
    "compute_wordle(cands, \"light\", usage_vowels, usage_conson)"
   ]
  },
  {
   "cell_type": "code",
   "execution_count": null,
   "id": "09e4ef13",
   "metadata": {},
   "outputs": [],
   "source": []
  }
 ],
 "metadata": {
  "kernelspec": {
   "display_name": "Python 3 (ipykernel)",
   "language": "python",
   "name": "python3"
  },
  "language_info": {
   "codemirror_mode": {
    "name": "ipython",
    "version": 3
   },
   "file_extension": ".py",
   "mimetype": "text/x-python",
   "name": "python",
   "nbconvert_exporter": "python",
   "pygments_lexer": "ipython3",
   "version": "3.9.7"
  }
 },
 "nbformat": 4,
 "nbformat_minor": 5
}
