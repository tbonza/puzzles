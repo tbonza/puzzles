{
 "cells": [
  {
   "cell_type": "markdown",
   "id": "75cb9326",
   "metadata": {},
   "source": [
    "# Summary\n",
    "\n",
    "We're going to derive logistic regression then run some simulations."
   ]
  },
  {
   "cell_type": "code",
   "execution_count": 2,
   "id": "1caa6c40",
   "metadata": {},
   "outputs": [],
   "source": [
    "import numpy as np\n",
    "\n",
    "np.random.seed(42)"
   ]
  },
  {
   "cell_type": "code",
   "execution_count": 6,
   "id": "fbd30f4b",
   "metadata": {},
   "outputs": [
    {
     "name": "stdout",
     "output_type": "stream",
     "text": [
      "X shape (100, 10), y shape (100, 1)\n"
     ]
    }
   ],
   "source": [
    "# X is the features\n",
    "m = 100; n = 10\n",
    "X = np.random.rand(m,n)\n",
    "\n",
    "# y is the target\n",
    "y = np.random.rand(m, 1)\n",
    "\n",
    "print(\"X shape {}, y shape {}\".format(X.shape, y.shape))"
   ]
  },
  {
   "cell_type": "code",
   "execution_count": null,
   "id": "2614df31",
   "metadata": {},
   "outputs": [],
   "source": []
  },
  {
   "cell_type": "code",
   "execution_count": null,
   "id": "172f3707",
   "metadata": {},
   "outputs": [],
   "source": []
  }
 ],
 "metadata": {
  "kernelspec": {
   "display_name": "Python 3 (ipykernel)",
   "language": "python",
   "name": "python3"
  },
  "language_info": {
   "codemirror_mode": {
    "name": "ipython",
    "version": 3
   },
   "file_extension": ".py",
   "mimetype": "text/x-python",
   "name": "python",
   "nbconvert_exporter": "python",
   "pygments_lexer": "ipython3",
   "version": "3.7.11"
  }
 },
 "nbformat": 4,
 "nbformat_minor": 5
}
