{
 "cells": [
  {
   "cell_type": "markdown",
   "id": "75cb9326",
   "metadata": {},
   "source": [
    "# Summary\n",
    "\n",
    "We're going to derive logistic regression then run some simulations.\n",
    "\n",
    "## References\n",
    "\n",
    "* [Strang, Introduction to Linear Algebra](https://math.mit.edu/~gs/linearalgebra/)"
   ]
  },
  {
   "cell_type": "code",
   "execution_count": 1,
   "id": "1caa6c40",
   "metadata": {},
   "outputs": [],
   "source": [
    "import numpy as np\n",
    "\n",
    "np.random.seed(42)"
   ]
  },
  {
   "cell_type": "markdown",
   "id": "854bc4ff",
   "metadata": {},
   "source": [
    "# Strang 4.2 Projections\n",
    "\n",
    "Starting with matrix projections. Reviewing Example 3 (p. 211)"
   ]
  },
  {
   "cell_type": "code",
   "execution_count": 2,
   "id": "b218e2ce",
   "metadata": {},
   "outputs": [],
   "source": [
    "A = np.array([[1,0],[1,1],[1,2]]); b = np.reshape(np.array([6,0,0]),(-1,1))\n"
   ]
  },
  {
   "cell_type": "code",
   "execution_count": 3,
   "id": "62b0dd4d",
   "metadata": {},
   "outputs": [
    {
     "data": {
      "text/plain": [
       "array([[3, 3],\n",
       "       [3, 5]])"
      ]
     },
     "execution_count": 3,
     "metadata": {},
     "output_type": "execute_result"
    }
   ],
   "source": [
    "# A^T A\n",
    "np.dot(np.transpose(A),A)"
   ]
  },
  {
   "cell_type": "code",
   "execution_count": 4,
   "id": "83b8c57f",
   "metadata": {},
   "outputs": [
    {
     "data": {
      "text/plain": [
       "array([[6],\n",
       "       [0]])"
      ]
     },
     "execution_count": 4,
     "metadata": {},
     "output_type": "execute_result"
    }
   ],
   "source": [
    "# A^T b\n",
    "np.dot(np.transpose(A),b)"
   ]
  },
  {
   "cell_type": "code",
   "execution_count": 5,
   "id": "d28ada66",
   "metadata": {},
   "outputs": [],
   "source": [
    "P = np.dot(np.linalg.inv(np.dot(np.transpose(A),A)),np.transpose(A)) # (7) projection matrix"
   ]
  },
  {
   "cell_type": "code",
   "execution_count": 6,
   "id": "3261ad25",
   "metadata": {},
   "outputs": [
    {
     "data": {
      "text/plain": [
       "array([[ 5.],\n",
       "       [-3.]])"
      ]
     },
     "execution_count": 6,
     "metadata": {},
     "output_type": "execute_result"
    }
   ],
   "source": [
    "# Now solve the normal equation A^T * A*xhat = A^T * bhat\n",
    "\n",
    "xhat = np.dot(P,b) # (8)\n",
    "xhat"
   ]
  },
  {
   "cell_type": "code",
   "execution_count": 7,
   "id": "d765ac57",
   "metadata": {},
   "outputs": [
    {
     "data": {
      "text/plain": [
       "array([[ 5.],\n",
       "       [ 2.],\n",
       "       [-1.]])"
      ]
     },
     "execution_count": 7,
     "metadata": {},
     "output_type": "execute_result"
    }
   ],
   "source": [
    "# The combination p = A * xhat is the projection of b onto the column space of A\n",
    "p = np.dot(A,xhat)\n",
    "p"
   ]
  },
  {
   "cell_type": "code",
   "execution_count": 8,
   "id": "dee56144",
   "metadata": {},
   "outputs": [
    {
     "data": {
      "text/plain": [
       "array([[ 1.],\n",
       "       [-2.],\n",
       "       [ 1.]])"
      ]
     },
     "execution_count": 8,
     "metadata": {},
     "output_type": "execute_result"
    }
   ],
   "source": [
    "# The error is\n",
    "e = b - p\n",
    "e # (9)"
   ]
  },
  {
   "cell_type": "code",
   "execution_count": 9,
   "id": "9c0e94ec",
   "metadata": {},
   "outputs": [
    {
     "data": {
      "text/plain": [
       "True"
      ]
     },
     "execution_count": 9,
     "metadata": {},
     "output_type": "execute_result"
    }
   ],
   "source": [
    "# Two checks on the calculation. \n",
    "all(# First, the error is perpendicular to both columns.\n",
    "    [np.dot(A[:,0],e) == 0, np.dot(A[:,1],e) == 0],\n",
    "    # Second, the matrix P times b correctly gives p\n",
    ")"
   ]
  },
  {
   "cell_type": "markdown",
   "id": "1fbf3c8d",
   "metadata": {},
   "source": [
    "# Strang 4.3 Least Squares Approximations\n",
    "\n",
    "When $Ax=b$ has no solution, $\\hat{x}$ is the \"least-squares solution\": $||b - A \\hat{x}||^2 = $ minimum.\n",
    "\n",
    "## Example 1\n",
    "\n",
    "A crucial application of least squares is fitting a straight line to $m$ points. This 3 by 2 system has *no solution*."
   ]
  },
  {
   "cell_type": "code",
   "execution_count": 17,
   "id": "8ed6803d",
   "metadata": {},
   "outputs": [
    {
     "data": {
      "text/plain": [
       "(array([[1, 0],\n",
       "        [1, 1],\n",
       "        [1, 2]]),\n",
       " array([[6],\n",
       "        [0],\n",
       "        [0]]))"
      ]
     },
     "execution_count": 17,
     "metadata": {},
     "output_type": "execute_result"
    }
   ],
   "source": [
    "A = np.array([[1,0],[1,1],[1,2]]); b = np.reshape(np.array([6,0,0]),(-1,1))\n",
    "A, b # Ax = b is not solvable"
   ]
  },
  {
   "cell_type": "markdown",
   "id": "37ede778",
   "metadata": {},
   "source": [
    "## Minimizing the Error\n",
    "\n",
    "The best $\\hat{x}$ comes from the normal equations $A^TA \\hat{x} = A^Tb$. $E$ is a minimum."
   ]
  },
  {
   "cell_type": "code",
   "execution_count": 20,
   "id": "0e507ed2",
   "metadata": {},
   "outputs": [
    {
     "data": {
      "text/plain": [
       "array([[ 5.],\n",
       "       [-3.]])"
      ]
     },
     "execution_count": 20,
     "metadata": {},
     "output_type": "execute_result"
    }
   ],
   "source": [
    "xhat = np.dot(np.linalg.inv(np.dot(np.transpose(A),A)), np.dot(np.transpose(A),b))\n",
    "xhat # (1)"
   ]
  },
  {
   "cell_type": "code",
   "execution_count": 23,
   "id": "4e478b2d",
   "metadata": {},
   "outputs": [
    {
     "data": {
      "text/plain": [
       "array([[ 5.],\n",
       "       [ 2.],\n",
       "       [-1.]])"
      ]
     },
     "execution_count": 23,
     "metadata": {},
     "output_type": "execute_result"
    }
   ],
   "source": [
    "p = np.dot(A,xhat) # (2)\n",
    "p"
   ]
  },
  {
   "cell_type": "code",
   "execution_count": 27,
   "id": "e1603838",
   "metadata": {},
   "outputs": [
    {
     "data": {
      "text/plain": [
       "True"
      ]
     },
     "execution_count": 27,
     "metadata": {},
     "output_type": "execute_result"
    }
   ],
   "source": [
    "e = b - p\n",
    "all([np.sum(e) == 0])"
   ]
  },
  {
   "cell_type": "code",
   "execution_count": 49,
   "id": "fbd30f4b",
   "metadata": {},
   "outputs": [
    {
     "name": "stdout",
     "output_type": "stream",
     "text": [
      "X shape (100, 10), y shape (100, 1)\n"
     ]
    }
   ],
   "source": [
    "# X is the features\n",
    "m = 100; n = 10\n",
    "X = np.random.rand(m,n)\n",
    "\n",
    "# y is the target\n",
    "y = np.random.rand(m,1)\n",
    "\n",
    "print(\"X shape {}, y shape {}\".format(X.shape, y.shape))"
   ]
  },
  {
   "cell_type": "markdown",
   "id": "8e3b4bc7",
   "metadata": {},
   "source": [
    "# Least Squares Approximation with a Random Matrix"
   ]
  },
  {
   "cell_type": "code",
   "execution_count": 52,
   "id": "2614df31",
   "metadata": {},
   "outputs": [],
   "source": [
    "# Analytic solution to linear regression\n",
    "# \n",
    "# Strang Ch. 4\n",
    "\n",
    "def analyticlm(A,b):\n",
    "    xhat = np.dot(np.linalg.inv(np.dot(np.transpose(A),A)), np.dot(np.transpose(A),b))\n",
    "    return  xhat"
   ]
  },
  {
   "cell_type": "code",
   "execution_count": 56,
   "id": "172f3707",
   "metadata": {},
   "outputs": [
    {
     "data": {
      "text/plain": [
       "array([[ 0.28228163],\n",
       "       [ 0.1556087 ],\n",
       "       [ 0.07891688],\n",
       "       [ 0.18083481],\n",
       "       [ 0.17747304],\n",
       "       [ 0.047676  ],\n",
       "       [ 0.06236389],\n",
       "       [ 0.03891797],\n",
       "       [ 0.03090966],\n",
       "       [-0.07421763]])"
      ]
     },
     "execution_count": 56,
     "metadata": {},
     "output_type": "execute_result"
    }
   ],
   "source": [
    "bhat = analyticlm(X,y)\n",
    "bhat"
   ]
  },
  {
   "cell_type": "markdown",
   "id": "5972a4be",
   "metadata": {},
   "source": [
    "# Logistic Regression with a Random Matrix\n",
    "\n",
    "Sigmoid function is $S(x) = \\frac{1}{1 + \\exp^{-x}}$"
   ]
  },
  {
   "cell_type": "code",
   "execution_count": 57,
   "id": "94c01d80",
   "metadata": {},
   "outputs": [],
   "source": [
    "def sigmoid(x):\n",
    "    return 1 / (1 + np.exp(-x))"
   ]
  },
  {
   "cell_type": "code",
   "execution_count": 58,
   "id": "d0d5c474",
   "metadata": {},
   "outputs": [],
   "source": [
    "def analytic_logit(A,b):\n",
    "    xhat = analyticlm(A,b)\n",
    "    return sigmoid(xhat)"
   ]
  },
  {
   "cell_type": "code",
   "execution_count": 60,
   "id": "89138ae1",
   "metadata": {},
   "outputs": [
    {
     "data": {
      "text/plain": [
       "array([[0.57010551],\n",
       "       [0.53882387],\n",
       "       [0.51971899],\n",
       "       [0.5450859 ],\n",
       "       [0.54425217],\n",
       "       [0.51191674],\n",
       "       [0.51558592],\n",
       "       [0.50972826],\n",
       "       [0.5077268 ],\n",
       "       [0.4814541 ]])"
      ]
     },
     "execution_count": 60,
     "metadata": {},
     "output_type": "execute_result"
    }
   ],
   "source": [
    "bhat = analytic_logit(X,y)\n",
    "bhat"
   ]
  },
  {
   "cell_type": "code",
   "execution_count": null,
   "id": "5712edea",
   "metadata": {},
   "outputs": [],
   "source": []
  }
 ],
 "metadata": {
  "kernelspec": {
   "display_name": "Python 3 (ipykernel)",
   "language": "python",
   "name": "python3"
  },
  "language_info": {
   "codemirror_mode": {
    "name": "ipython",
    "version": 3
   },
   "file_extension": ".py",
   "mimetype": "text/x-python",
   "name": "python",
   "nbconvert_exporter": "python",
   "pygments_lexer": "ipython3",
   "version": "3.7.11"
  }
 },
 "nbformat": 4,
 "nbformat_minor": 5
}
