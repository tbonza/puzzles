{
 "cells": [
  {
   "cell_type": "markdown",
   "id": "75cb9326",
   "metadata": {},
   "source": [
    "# Summary\n",
    "\n",
    "We're going to derive logistic regression then run some simulations.\n",
    "\n",
    "## References\n",
    "\n",
    "* [Strang, Introduction to Linear Algebra](https://math.mit.edu/~gs/linearalgebra/)"
   ]
  },
  {
   "cell_type": "code",
   "execution_count": 1,
   "id": "1caa6c40",
   "metadata": {},
   "outputs": [],
   "source": [
    "import numpy as np\n",
    "\n",
    "np.random.seed(42)"
   ]
  },
  {
   "cell_type": "markdown",
   "id": "854bc4ff",
   "metadata": {},
   "source": [
    "# Strang 4.2 Projections\n",
    "\n",
    "Starting with matrix projections. Reviewing Example 3 (p. 211)"
   ]
  },
  {
   "cell_type": "code",
   "execution_count": 2,
   "id": "b218e2ce",
   "metadata": {},
   "outputs": [],
   "source": [
    "A = np.array([[1,0],[1,1],[1,2]]); b = np.reshape(np.array([6,0,0]),(-1,1))\n"
   ]
  },
  {
   "cell_type": "code",
   "execution_count": 3,
   "id": "62b0dd4d",
   "metadata": {},
   "outputs": [
    {
     "data": {
      "text/plain": [
       "array([[3, 3],\n",
       "       [3, 5]])"
      ]
     },
     "execution_count": 3,
     "metadata": {},
     "output_type": "execute_result"
    }
   ],
   "source": [
    "# A^T A\n",
    "np.dot(np.transpose(A),A)"
   ]
  },
  {
   "cell_type": "code",
   "execution_count": 4,
   "id": "83b8c57f",
   "metadata": {},
   "outputs": [
    {
     "data": {
      "text/plain": [
       "array([[6],\n",
       "       [0]])"
      ]
     },
     "execution_count": 4,
     "metadata": {},
     "output_type": "execute_result"
    }
   ],
   "source": [
    "# A^T b\n",
    "np.dot(np.transpose(A),b)"
   ]
  },
  {
   "cell_type": "code",
   "execution_count": 5,
   "id": "d28ada66",
   "metadata": {},
   "outputs": [],
   "source": [
    "P = np.dot(np.linalg.inv(np.dot(np.transpose(A),A)),np.transpose(A)) # (7) projection matrix"
   ]
  },
  {
   "cell_type": "code",
   "execution_count": 6,
   "id": "3261ad25",
   "metadata": {},
   "outputs": [
    {
     "data": {
      "text/plain": [
       "array([[ 5.],\n",
       "       [-3.]])"
      ]
     },
     "execution_count": 6,
     "metadata": {},
     "output_type": "execute_result"
    }
   ],
   "source": [
    "# Now solve the normal equation A^T * A*xhat = A^T * bhat\n",
    "\n",
    "xhat = np.dot(P,b) # (8)\n",
    "xhat"
   ]
  },
  {
   "cell_type": "code",
   "execution_count": 7,
   "id": "d765ac57",
   "metadata": {},
   "outputs": [
    {
     "data": {
      "text/plain": [
       "array([[ 5.],\n",
       "       [ 2.],\n",
       "       [-1.]])"
      ]
     },
     "execution_count": 7,
     "metadata": {},
     "output_type": "execute_result"
    }
   ],
   "source": [
    "# The combination p = A * xhat is the projection of b onto the column space of A\n",
    "p = np.dot(A,xhat)\n",
    "p"
   ]
  },
  {
   "cell_type": "code",
   "execution_count": 8,
   "id": "dee56144",
   "metadata": {},
   "outputs": [
    {
     "data": {
      "text/plain": [
       "array([[ 1.],\n",
       "       [-2.],\n",
       "       [ 1.]])"
      ]
     },
     "execution_count": 8,
     "metadata": {},
     "output_type": "execute_result"
    }
   ],
   "source": [
    "# The error is\n",
    "e = b - p\n",
    "e # (9)"
   ]
  },
  {
   "cell_type": "code",
   "execution_count": 9,
   "id": "9c0e94ec",
   "metadata": {},
   "outputs": [
    {
     "data": {
      "text/plain": [
       "True"
      ]
     },
     "execution_count": 9,
     "metadata": {},
     "output_type": "execute_result"
    }
   ],
   "source": [
    "# Two checks on the calculation. \n",
    "all(# First, the error is perpendicular to both columns.\n",
    "    [np.dot(A[:,0],e) == 0, np.dot(A[:,1],e) == 0],\n",
    "    # Second, the matrix P times b correctly gives p\n",
    ")"
   ]
  },
  {
   "cell_type": "markdown",
   "id": "1fbf3c8d",
   "metadata": {},
   "source": [
    "# Strang 4.3 Least Squares Approximations\n",
    "\n",
    "When $Ax=b$ has no solution, $\\hat{x}$ is the \"least-squares solution\": $||b - A \\hat{x}||^2 = $ minimum.\n",
    "\n",
    "## Example 1\n",
    "\n",
    "A crucial application of least squares is fitting a straight line to $m$ points. This 3 by 2 system has *no solution*."
   ]
  },
  {
   "cell_type": "code",
   "execution_count": 10,
   "id": "8ed6803d",
   "metadata": {},
   "outputs": [
    {
     "data": {
      "text/plain": [
       "(array([[1, 0],\n",
       "        [1, 1],\n",
       "        [1, 2]]),\n",
       " array([[6],\n",
       "        [0],\n",
       "        [0]]))"
      ]
     },
     "execution_count": 10,
     "metadata": {},
     "output_type": "execute_result"
    }
   ],
   "source": [
    "A = np.array([[1,0],[1,1],[1,2]]); b = np.reshape(np.array([6,0,0]),(-1,1))\n",
    "A, b # Ax = b is not solvable"
   ]
  },
  {
   "cell_type": "markdown",
   "id": "37ede778",
   "metadata": {},
   "source": [
    "## Minimizing the Error\n",
    "\n",
    "The best $\\hat{x}$ comes from the normal equations $A^TA \\hat{x} = A^Tb$. $E$ is a minimum."
   ]
  },
  {
   "cell_type": "code",
   "execution_count": 11,
   "id": "0e507ed2",
   "metadata": {},
   "outputs": [
    {
     "data": {
      "text/plain": [
       "array([[ 5.],\n",
       "       [-3.]])"
      ]
     },
     "execution_count": 11,
     "metadata": {},
     "output_type": "execute_result"
    }
   ],
   "source": [
    "xhat = np.dot(np.linalg.inv(np.dot(np.transpose(A),A)), np.dot(np.transpose(A),b))\n",
    "xhat # (1)"
   ]
  },
  {
   "cell_type": "code",
   "execution_count": 12,
   "id": "4e478b2d",
   "metadata": {},
   "outputs": [
    {
     "data": {
      "text/plain": [
       "array([[ 5.],\n",
       "       [ 2.],\n",
       "       [-1.]])"
      ]
     },
     "execution_count": 12,
     "metadata": {},
     "output_type": "execute_result"
    }
   ],
   "source": [
    "p = np.dot(A,xhat) # (2)\n",
    "p"
   ]
  },
  {
   "cell_type": "code",
   "execution_count": 13,
   "id": "e1603838",
   "metadata": {},
   "outputs": [
    {
     "data": {
      "text/plain": [
       "True"
      ]
     },
     "execution_count": 13,
     "metadata": {},
     "output_type": "execute_result"
    }
   ],
   "source": [
    "e = b - p\n",
    "all([np.sum(e) == 0])"
   ]
  },
  {
   "cell_type": "markdown",
   "id": "c9e63cc6",
   "metadata": {},
   "source": [
    "# Generating a Random Matrix"
   ]
  },
  {
   "cell_type": "code",
   "execution_count": 14,
   "id": "fbd30f4b",
   "metadata": {},
   "outputs": [
    {
     "name": "stdout",
     "output_type": "stream",
     "text": [
      "X shape (100, 10), y shape (100, 1)\n"
     ]
    }
   ],
   "source": [
    "# X is the features\n",
    "m = 100; n = 10\n",
    "X = np.random.rand(m,n)\n",
    "\n",
    "# set the first attribute to one for an intercept\n",
    "X[:,1] = 1\n",
    "\n",
    "# y is the target\n",
    "y = np.random.rand(m,1)\n",
    "\n",
    "print(\"X shape {}, y shape {}\".format(X.shape, y.shape))"
   ]
  },
  {
   "cell_type": "code",
   "execution_count": 15,
   "id": "449ce111",
   "metadata": {},
   "outputs": [
    {
     "data": {
      "text/plain": [
       "(100, 1)"
      ]
     },
     "execution_count": 15,
     "metadata": {},
     "output_type": "execute_result"
    }
   ],
   "source": [
    "y_cls = np.reshape(np.random.randint(low=0,high=2,size=m),(-1,1))\n",
    "y_cls.shape"
   ]
  },
  {
   "cell_type": "code",
   "execution_count": 16,
   "id": "2b1e3c89",
   "metadata": {},
   "outputs": [
    {
     "data": {
      "text/plain": [
       "0.47"
      ]
     },
     "execution_count": 16,
     "metadata": {},
     "output_type": "execute_result"
    }
   ],
   "source": [
    "np.sum(y_cls) / y_cls.shape[0]"
   ]
  },
  {
   "cell_type": "markdown",
   "id": "430148c3",
   "metadata": {},
   "source": [
    "Convert train/test to 80/20%."
   ]
  },
  {
   "cell_type": "code",
   "execution_count": 17,
   "id": "8921788f",
   "metadata": {},
   "outputs": [
    {
     "data": {
      "text/plain": [
       "80"
      ]
     },
     "execution_count": 17,
     "metadata": {},
     "output_type": "execute_result"
    }
   ],
   "source": [
    "split = 0.8\n",
    "m_train = int(m * split)\n",
    "m_train"
   ]
  },
  {
   "cell_type": "code",
   "execution_count": 18,
   "id": "189fc6c8",
   "metadata": {},
   "outputs": [
    {
     "data": {
      "text/plain": [
       "(100, 10)"
      ]
     },
     "execution_count": 18,
     "metadata": {},
     "output_type": "execute_result"
    }
   ],
   "source": [
    "X.shape"
   ]
  },
  {
   "cell_type": "code",
   "execution_count": 19,
   "id": "e15e5f21",
   "metadata": {},
   "outputs": [
    {
     "data": {
      "text/plain": [
       "((80, 10), (80, 1), (80, 1))"
      ]
     },
     "execution_count": 19,
     "metadata": {},
     "output_type": "execute_result"
    }
   ],
   "source": [
    "X_train = X[:m_train,:]; y_train = y[:m_train]; y_cls_train = y_cls[:m_train]\n",
    "X_train.shape, y_train.shape, y_cls_train.shape"
   ]
  },
  {
   "cell_type": "code",
   "execution_count": 20,
   "id": "9aa8ab4b",
   "metadata": {},
   "outputs": [
    {
     "data": {
      "text/plain": [
       "((20, 10), (20, 1), (20, 1))"
      ]
     },
     "execution_count": 20,
     "metadata": {},
     "output_type": "execute_result"
    }
   ],
   "source": [
    "X_test = X[m_train:,:]; y_test = y[m_train:]; y_cls_test = y_cls[m_train:]\n",
    "X_test.shape, y_test.shape, y_cls_test.shape"
   ]
  },
  {
   "cell_type": "markdown",
   "id": "8e3b4bc7",
   "metadata": {},
   "source": [
    "# Least Squares Approximation"
   ]
  },
  {
   "cell_type": "code",
   "execution_count": 21,
   "id": "2614df31",
   "metadata": {},
   "outputs": [],
   "source": [
    "# Analytic solution to linear regression\n",
    "# \n",
    "# Strang Ch. 4\n",
    "\n",
    "def analyticlm(A,b):\n",
    "    xhat = np.dot(np.linalg.inv(np.dot(np.transpose(A),A)), np.dot(np.transpose(A),b))\n",
    "    return  xhat"
   ]
  },
  {
   "cell_type": "code",
   "execution_count": 22,
   "id": "172f3707",
   "metadata": {},
   "outputs": [
    {
     "data": {
      "text/plain": [
       "array([[ 0.20549593],\n",
       "       [ 0.34878373],\n",
       "       [ 0.17357996],\n",
       "       [ 0.08132801],\n",
       "       [ 0.00414967],\n",
       "       [-0.01918945],\n",
       "       [ 0.0961147 ],\n",
       "       [-0.11891359],\n",
       "       [ 0.09076461],\n",
       "       [-0.10092084]])"
      ]
     },
     "execution_count": 22,
     "metadata": {},
     "output_type": "execute_result"
    }
   ],
   "source": [
    "bhat = analyticlm(X_train,y_train)\n",
    "bhat"
   ]
  },
  {
   "cell_type": "code",
   "execution_count": 23,
   "id": "117c79db",
   "metadata": {},
   "outputs": [
    {
     "data": {
      "text/plain": [
       "array([[0.64035738],\n",
       "       [0.62187278],\n",
       "       [0.60194866],\n",
       "       [0.46148819],\n",
       "       [0.32835673],\n",
       "       [0.46124611],\n",
       "       [0.60196935],\n",
       "       [0.53815127],\n",
       "       [0.42695011],\n",
       "       [0.58659693],\n",
       "       [0.47818277],\n",
       "       [0.57633164],\n",
       "       [0.741798  ],\n",
       "       [0.43208381],\n",
       "       [0.51146044],\n",
       "       [0.55628168],\n",
       "       [0.47156483],\n",
       "       [0.66080177],\n",
       "       [0.38975595],\n",
       "       [0.72117655]])"
      ]
     },
     "execution_count": 23,
     "metadata": {},
     "output_type": "execute_result"
    }
   ],
   "source": [
    "predict = np.dot(X_test,bhat)\n",
    "predict"
   ]
  },
  {
   "cell_type": "code",
   "execution_count": 24,
   "id": "3905911b",
   "metadata": {},
   "outputs": [],
   "source": [
    "def evaluate_ols(pred, actual):\n",
    "    \"\"\" Root-Mean Square Error. \n",
    "    \n",
    "    Perfect score would be 0.0.\n",
    "    \"\"\"\n",
    "    assert pred.shape == actual.shape\n",
    "    return np.sqrt(np.sum((pred - actual)**2) / pred.shape[0])"
   ]
  },
  {
   "cell_type": "code",
   "execution_count": 25,
   "id": "4e1c0a8e",
   "metadata": {},
   "outputs": [
    {
     "data": {
      "text/plain": [
       "0.3550899427668016"
      ]
     },
     "execution_count": 25,
     "metadata": {},
     "output_type": "execute_result"
    }
   ],
   "source": [
    "evaluate_ols(predict, y_test)"
   ]
  },
  {
   "cell_type": "markdown",
   "id": "5972a4be",
   "metadata": {},
   "source": [
    "# Logistic Regression with a Random Matrix\n",
    "\n",
    "Sigmoid function is $S(x) = \\frac{1}{1 + \\exp^{-x}}$"
   ]
  },
  {
   "cell_type": "code",
   "execution_count": 26,
   "id": "94c01d80",
   "metadata": {},
   "outputs": [],
   "source": [
    "def sigmoid(x):\n",
    "    return 1 / (1 + np.exp(-x))"
   ]
  },
  {
   "cell_type": "code",
   "execution_count": 27,
   "id": "d0d5c474",
   "metadata": {},
   "outputs": [],
   "source": [
    "def analytic_logit(A,b):\n",
    "    xhat = analyticlm(A,b)\n",
    "    return sigmoid(xhat)"
   ]
  },
  {
   "cell_type": "code",
   "execution_count": 28,
   "id": "89138ae1",
   "metadata": {},
   "outputs": [
    {
     "data": {
      "text/plain": [
       "array([[0.50223367],\n",
       "       [0.67298951],\n",
       "       [0.53451623],\n",
       "       [0.41897932],\n",
       "       [0.48359603],\n",
       "       [0.54483137],\n",
       "       [0.43374557],\n",
       "       [0.50159306],\n",
       "       [0.4783385 ],\n",
       "       [0.4579651 ]])"
      ]
     },
     "execution_count": 28,
     "metadata": {},
     "output_type": "execute_result"
    }
   ],
   "source": [
    "bhat = analytic_logit(X_train,y_cls_train)\n",
    "bhat"
   ]
  },
  {
   "cell_type": "code",
   "execution_count": 29,
   "id": "5712edea",
   "metadata": {},
   "outputs": [
    {
     "data": {
      "text/plain": [
       "(20, 1)"
      ]
     },
     "execution_count": 29,
     "metadata": {},
     "output_type": "execute_result"
    }
   ],
   "source": [
    "# https://ml-cheatsheet.readthedocs.io/en/latest/logistic_regression.html#sigmoid-activation\n",
    "\n",
    "predictions = sigmoid(np.dot(X_test,bhat))\n",
    "predictions.shape"
   ]
  },
  {
   "cell_type": "code",
   "execution_count": 30,
   "id": "fd014cf0",
   "metadata": {},
   "outputs": [],
   "source": [
    "def decision_boundary(prob, boundary=0.5):\n",
    "    return np.where(prob >= boundary, 1,0)"
   ]
  },
  {
   "cell_type": "code",
   "execution_count": 31,
   "id": "8b64aff2",
   "metadata": {},
   "outputs": [],
   "source": [
    "def accuracy(predicted_labels, actual_labels):\n",
    "    diff = predicted_labels - actual_labels\n",
    "    return 1.0 - (float(np.count_nonzero(diff)) / len(diff))"
   ]
  },
  {
   "cell_type": "code",
   "execution_count": 32,
   "id": "35cb38d9",
   "metadata": {},
   "outputs": [
    {
     "data": {
      "text/plain": [
       "array([[1],\n",
       "       [1],\n",
       "       [1],\n",
       "       [1],\n",
       "       [1],\n",
       "       [1],\n",
       "       [1],\n",
       "       [1],\n",
       "       [1],\n",
       "       [1],\n",
       "       [1],\n",
       "       [1],\n",
       "       [1],\n",
       "       [1],\n",
       "       [1],\n",
       "       [1],\n",
       "       [1],\n",
       "       [1],\n",
       "       [1],\n",
       "       [1]])"
      ]
     },
     "execution_count": 32,
     "metadata": {},
     "output_type": "execute_result"
    }
   ],
   "source": [
    "predicted_labels = decision_boundary(predictions)\n",
    "predicted_labels"
   ]
  },
  {
   "cell_type": "code",
   "execution_count": 33,
   "id": "11be1273",
   "metadata": {},
   "outputs": [
    {
     "data": {
      "text/plain": [
       "0.55"
      ]
     },
     "execution_count": 33,
     "metadata": {},
     "output_type": "execute_result"
    }
   ],
   "source": [
    "accuracy(predicted_labels, y_cls_test)"
   ]
  },
  {
   "cell_type": "markdown",
   "id": "eeb0e827",
   "metadata": {},
   "source": [
    "# Class Imbalance for Logistic Regression on a Random Matrix\n",
    "\n",
    "Let's assume 90/10%"
   ]
  },
  {
   "cell_type": "code",
   "execution_count": 34,
   "id": "1ff6874d",
   "metadata": {},
   "outputs": [
    {
     "data": {
      "text/plain": [
       "0.45"
      ]
     },
     "execution_count": 34,
     "metadata": {},
     "output_type": "execute_result"
    }
   ],
   "source": [
    "np.sum(y_cls_train) / y_cls_train.shape[0]"
   ]
  },
  {
   "cell_type": "code",
   "execution_count": 35,
   "id": "f4e6ab31",
   "metadata": {},
   "outputs": [
    {
     "data": {
      "text/plain": [
       "(80, 1)"
      ]
     },
     "execution_count": 35,
     "metadata": {},
     "output_type": "execute_result"
    }
   ],
   "source": [
    "y_cls_imb_train = y_cls_train\n",
    "y_cls_imb_train.shape"
   ]
  },
  {
   "cell_type": "code",
   "execution_count": 36,
   "id": "3f616622",
   "metadata": {},
   "outputs": [],
   "source": [
    "y_cls_imb_train = y_cls_imb_train * 0\n",
    "y_cls_imb_train[:int(y_cls_imb_train.shape[0] * 0.9)] = 1\n",
    "\n",
    "np.random.shuffle(y_cls_imb_train)"
   ]
  },
  {
   "cell_type": "code",
   "execution_count": 37,
   "id": "967828de",
   "metadata": {},
   "outputs": [],
   "source": [
    "y_cls_imb_test = y_cls_test\n",
    "\n",
    "y_cls_imb_test = y_cls_imb_test * 0\n",
    "y_cls_imb_test[:int(y_cls_imb_test.shape[0] * 0.9)] = 1\n",
    "\n",
    "np.random.shuffle(y_cls_imb_test)"
   ]
  },
  {
   "cell_type": "code",
   "execution_count": 38,
   "id": "dbaed448",
   "metadata": {},
   "outputs": [
    {
     "data": {
      "text/plain": [
       "array([[0.52990053],\n",
       "       [0.69149814],\n",
       "       [0.52803463],\n",
       "       [0.5371479 ],\n",
       "       [0.48183059],\n",
       "       [0.4749205 ],\n",
       "       [0.51548101],\n",
       "       [0.48592297],\n",
       "       [0.48988449],\n",
       "       [0.51198536]])"
      ]
     },
     "execution_count": 38,
     "metadata": {},
     "output_type": "execute_result"
    }
   ],
   "source": [
    "# Compute coefficients\n",
    "\n",
    "bhat_imb = analytic_logit(X_train, y_cls_imb_train)\n",
    "bhat_imb"
   ]
  },
  {
   "cell_type": "code",
   "execution_count": 39,
   "id": "ea482967",
   "metadata": {},
   "outputs": [],
   "source": [
    "predictions = sigmoid(np.dot(X_test,bhat_imb))"
   ]
  },
  {
   "cell_type": "code",
   "execution_count": 40,
   "id": "898e6eaa",
   "metadata": {},
   "outputs": [
    {
     "data": {
      "text/plain": [
       "array([[1],\n",
       "       [1],\n",
       "       [1],\n",
       "       [1],\n",
       "       [1],\n",
       "       [1],\n",
       "       [1],\n",
       "       [1],\n",
       "       [1],\n",
       "       [1],\n",
       "       [1],\n",
       "       [1],\n",
       "       [1],\n",
       "       [1],\n",
       "       [1],\n",
       "       [1],\n",
       "       [1],\n",
       "       [1],\n",
       "       [1],\n",
       "       [1]])"
      ]
     },
     "execution_count": 40,
     "metadata": {},
     "output_type": "execute_result"
    }
   ],
   "source": [
    "predicted_labels = decision_boundary(predictions)\n",
    "predicted_labels"
   ]
  },
  {
   "cell_type": "code",
   "execution_count": 41,
   "id": "3f117d5a",
   "metadata": {},
   "outputs": [
    {
     "data": {
      "text/plain": [
       "0.9"
      ]
     },
     "execution_count": 41,
     "metadata": {},
     "output_type": "execute_result"
    }
   ],
   "source": [
    "accuracy(predicted_labels, y_cls_imb_test)"
   ]
  },
  {
   "cell_type": "code",
   "execution_count": null,
   "id": "2b8e4451",
   "metadata": {},
   "outputs": [],
   "source": []
  }
 ],
 "metadata": {
  "kernelspec": {
   "display_name": "Python 3 (ipykernel)",
   "language": "python",
   "name": "python3"
  },
  "language_info": {
   "codemirror_mode": {
    "name": "ipython",
    "version": 3
   },
   "file_extension": ".py",
   "mimetype": "text/x-python",
   "name": "python",
   "nbconvert_exporter": "python",
   "pygments_lexer": "ipython3",
   "version": "3.7.11"
  }
 },
 "nbformat": 4,
 "nbformat_minor": 5
}
